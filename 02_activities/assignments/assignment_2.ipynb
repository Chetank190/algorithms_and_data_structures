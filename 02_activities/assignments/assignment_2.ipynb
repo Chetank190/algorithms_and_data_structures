{
 "cells": [
  {
   "cell_type": "markdown",
   "metadata": {},
   "source": [
    "# Practice Interview\n",
    "\n",
    "## Objective\n",
    "\n",
    "_*The partner assignment aims to provide participants with the opportunity to practice coding in an interview context. You will analyze your partner's Assignment 1. Moreover, code reviews are common practice in a software development team. This assignment should give you a taste of the code review process.*_\n",
    "\n",
    "## Group Size\n",
    "\n",
    "Each group should have 2 people. You will be assigned a partner\n",
    "\n",
    "## Part 1:\n",
    "\n",
    "You and your partner must share each other's Assignment 1 submission."
   ]
  },
  {
   "cell_type": "markdown",
   "metadata": {},
   "source": [
    "\n",
    "## Part 2:\n",
    "\n",
    "Create a Jupyter Notebook, create 6 of the following headings, and complete the following for your partner's assignment 1:\n",
    "\n",
    "-   Paraphrase the problem in your own words.\n"
   ]
  },
  {
   "cell_type": "markdown",
   "metadata": {},
   "source": [
    "The task is to check if a binary tree has any repeated values. Start from the root and go level by level to look for duplicates. If you find any, return the first repeated value you come across during this traversal. If there are no repeated values, return -1.  "
   ]
  },
  {
   "cell_type": "markdown",
   "metadata": {},
   "source": [
    "\n",
    "-   Create 1 new example that demonstrates you understand the problem. Trace/walkthrough 1 example that your partner made and explain it.\n"
   ]
  },
  {
   "cell_type": "markdown",
   "metadata": {},
   "source": [
    "New Example:  \n",
    "  \n",
    "Input: [2, 4, 5, 4, 6, 7, 8]  \n",
    "Output: 4  \n",
    "  \n",
    "Walkthrough of Example 1:    \n",
    "Input: [1, 7, 8, 9, 9, 12, 7, 12]  \n",
    "Output: 9  \n",
    "  \n",
    "Start with the root (1). Add it to a set: {1}.  \n",
    "Go to the next level: 7 and 8. Add both to the set: {1, 7, 8}.  \n",
    "Go to the next level: 9, 9, 12, and 7.  \n",
    "Check 9: not in the set, so add it: {1, 7, 8, 9}.  \n",
    "Check the second 9: already in the set! This is the first duplicate, so we stop here and return 9.  \n",
    "The output is 9, because it's the first duplicate encountered during level-order traversal.  "
   ]
  },
  {
   "cell_type": "markdown",
   "metadata": {},
   "source": [
    "\n",
    "-   Copy the solution your partner wrote. \n"
   ]
  },
  {
   "cell_type": "code",
   "execution_count": 5,
   "metadata": {},
   "outputs": [
    {
     "name": "stdout",
     "output_type": "stream",
     "text": [
      "First Duplicate: 10\n"
     ]
    }
   ],
   "source": [
    "# Definition for a binary tree node.\n",
    "class TreeNode(object):\n",
    "    def __init__(self, val=0, left=None, right=None):\n",
    "        self.val = val\n",
    "        self.left = left\n",
    "        self.right = right\n",
    "\n",
    "def is_duplicate(root: TreeNode) -> int:\n",
    "    \"\"\"\n",
    "    Finds the first duplicate value in a binary tree using BFS.\n",
    "    :param root: Root node of the binary tree\n",
    "    :return: The first duplicate value or -1 if no duplicates exist\n",
    "    \"\"\"\n",
    "    if not root:\n",
    "        return -1  # No duplicates in an empty tree\n",
    "\n",
    "    from collections import deque\n",
    "\n",
    "    # BFS queue and set to track seen values\n",
    "    queue = deque([root])\n",
    "    seen = set()\n",
    "\n",
    "    while queue:\n",
    "        node = queue.popleft()\n",
    "\n",
    "        # Check for duplicates\n",
    "        if node.val in seen:\n",
    "            return node.val\n",
    "        seen.add(node.val)\n",
    "\n",
    "        # Add left and right children to the queue\n",
    "        if node.left:\n",
    "            queue.append(node.left)\n",
    "        if node.right:\n",
    "            queue.append(node.right)\n",
    "\n",
    "    return -1  # No duplicates found\n",
    "\n",
    "# Manually construct a binary tree (no helper function)\n",
    "# Example Tree: [1, 10, 2, 3, 10, 12, 12]\n",
    "root = TreeNode(1)\n",
    "node1 = TreeNode(10)\n",
    "node2 = TreeNode(2)\n",
    "node3 = TreeNode(3)\n",
    "node4 = TreeNode(10)  # Duplicate\n",
    "node5 = TreeNode(12)\n",
    "node6 = TreeNode(12)  # Duplicate\n",
    "\n",
    "# Connect the nodes\n",
    "root.left = node1\n",
    "root.right = node2\n",
    "node1.left = node3\n",
    "node1.right = node4\n",
    "node2.left = node5\n",
    "node2.right = node6\n",
    "\n",
    "# Test the is_duplicate function\n",
    "result = is_duplicate(root)\n",
    "print(\"First Duplicate:\", result)"
   ]
  },
  {
   "cell_type": "markdown",
   "metadata": {},
   "source": [
    "\n",
    "-   Explain why their solution works in your own words.\n"
   ]
  },
  {
   "cell_type": "markdown",
   "metadata": {},
   "source": [
    "The BFS traversal ensures that nodes closer to the root are visited before nodes farther down. This guarantees that the first duplicate encountered is the one closest to the root.  \n",
    "Using a set to track seen values ensures that duplicate detection is fast and efficient (O(1) for each check).  \n"
   ]
  },
  {
   "cell_type": "markdown",
   "metadata": {},
   "source": [
    "\n",
    "-   Explain the problem’s time and space complexity in your own words.\n"
   ]
  },
  {
   "cell_type": "markdown",
   "metadata": {},
   "source": [
    "The time complexity of this solution is O(n), where n is the number of nodes in the binary tree. Each node in the tree is visited exactly once during the BFS traversal. For each node, checking if its value is in the seen set and adding it to the set both take constant time O(1). Since we process all nodes once and perform constant-time operations for each, the total time taken is proportional to the number of nodes in the tree.  \n",
    "\n",
    "The space complexity is O(n) in the worst case. The seen set stores the value of each node, which can grow up to n unique values in the worst case (if no duplicates exist). Seen set grow with the size of the tree, but their combined size is proportional to the number of nodes.  \n",
    "\n",
    "\n"
   ]
  },
  {
   "cell_type": "markdown",
   "metadata": {},
   "source": [
    "\n",
    "-   Critique your partner's solution, including explanation, and if there is anything that should be adjusted.\n"
   ]
  },
  {
   "cell_type": "markdown",
   "metadata": {},
   "source": [
    "The solution is functional and efficient for most cases. However, it can be cleaned up to improve readability, handle edge cases more elegantly, and make debugging optional. Adjustments like streamlined duplicate checks, improved queue handling, and controlled debugging output will make it more robust and production-ready. For very deep trees (e.g., linked-list-like trees with only left or right children), BFS will still work but might use extra space unnecessarily for the queue."
   ]
  },
  {
   "cell_type": "markdown",
   "metadata": {},
   "source": [
    "\n",
    "## Part 3:\n",
    "\n",
    "Please write a 200 word reflection documenting your process from assignment 1, and your presentation and review experience with your partner at the bottom of the Jupyter Notebook under a new heading \"Reflection.\" Again, export this Notebook as pdf.\n"
   ]
  },
  {
   "cell_type": "markdown",
   "metadata": {},
   "source": [
    "### Reflection"
   ]
  },
  {
   "cell_type": "markdown",
   "metadata": {},
   "source": [
    "Assignment 1 was a valuable learning experience that helped me think critically and approach solving LeetCode-style problems methodically. The process we followed was structured and effective:  \n",
    "\n",
    "Paraphrasing the Problem: We started by rewriting the problem in our own words, ensuring we fully understood the requirements and constraints. This step clarified any ambiguity and made the problem easier to tackle.  \n",
    "\n",
    "Creating Examples: We created multiple example inputs and outputs, ensuring that both normal and edge cases were covered. This step ensured we had a clear understanding of what the solution should achieve.  \n",
    "\n",
    "Writing Efficient Code: We focused on writing clean, concise code with optimal time and space complexity. This involved thinking about the best algorithms and data structures to use for the problem.  \n",
    "\n",
    "Explaining Why the Code Works: After writing the code, we explained how and why it worked step by step. This process deepened our understanding of the solution and its correctness.  \n",
    "\n",
    "Analyzing Time and Space Complexity: We analyzed and commented on the time and space complexity of our solution, ensuring that it met efficiency expectations.  \n",
    "\n",
    "Critiquing the Solution: We reviewed our code critically, identifying areas for improvement or optimization. We also brainstormed better approaches if applicable, discussing their advantages and trade-offs.  \n",
    "\n",
    "This process not only helped in solving the problem effectively but also provided insights into how to tackle interview questions. It allowed us to practice the skills necessary to break down complex problems and communicate solutions clearly.  "
   ]
  },
  {
   "cell_type": "markdown",
   "metadata": {},
   "source": [
    "\n",
    "## Evaluation Criteria\n",
    "\n",
    "We are looking for the similar points as Assignment 1\n",
    "\n",
    "-   Problem is accurately stated\n",
    "\n",
    "-   New example is correct and easily understandable\n",
    "\n",
    "-   Correctness, time, and space complexity of the coding solution\n",
    "\n",
    "-   Clarity in explaining why the solution works, its time and space complexity\n",
    "\n",
    "-   Quality of critique of your partner's assignment, if necessary\n"
   ]
  },
  {
   "cell_type": "markdown",
   "metadata": {},
   "source": [
    "## Submission Information\n",
    "\n",
    "🚨 **Please review our [Assignment Submission Guide](https://github.com/UofT-DSI/onboarding/blob/main/onboarding_documents/submissions.md)** 🚨 for detailed instructions on how to format, branch, and submit your work. Following these guidelines is crucial for your submissions to be evaluated correctly.\n",
    "\n",
    "### Submission Parameters:\n",
    "* Submission Due Date: `HH:MM AM/PM - DD/MM/YYYY`\n",
    "* The branch name for your repo should be: `assignment-2`\n",
    "* What to submit for this assignment:\n",
    "    * This Jupyter Notebook (assignment_2.ipynb) should be populated and should be the only change in your pull request.\n",
    "* What the pull request link should look like for this assignment: `https://github.com/<your_github_username>/algorithms_and_data_structures/pull/<pr_id>`\n",
    "    * Open a private window in your browser. Copy and paste the link to your pull request into the address bar. Make sure you can see your pull request properly. This helps the technical facilitator and learning support staff review your submission easily.\n",
    "\n",
    "Checklist:\n",
    "- [ ] Created a branch with the correct naming convention.\n",
    "- [ ] Ensured that the repository is public.\n",
    "- [ ] Reviewed the PR description guidelines and adhered to them.\n",
    "- [ ] Verify that the link is accessible in a private browser window.\n",
    "\n",
    "If you encounter any difficulties or have questions, please don't hesitate to reach out to our team via our Slack at `#cohort-3-help`. Our Technical Facilitators and Learning Support staff are here to help you navigate any challenges.\n"
   ]
  }
 ],
 "metadata": {
  "kernelspec": {
   "display_name": "dsi_participant",
   "language": "python",
   "name": "python3"
  },
  "language_info": {
   "codemirror_mode": {
    "name": "ipython",
    "version": 3
   },
   "file_extension": ".py",
   "mimetype": "text/x-python",
   "name": "python",
   "nbconvert_exporter": "python",
   "pygments_lexer": "ipython3",
   "version": "3.9.19"
  }
 },
 "nbformat": 4,
 "nbformat_minor": 2
}
